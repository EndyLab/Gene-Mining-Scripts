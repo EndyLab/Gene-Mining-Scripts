{
 "cells": [
  {
   "cell_type": "code",
   "execution_count": 221,
   "metadata": {
    "collapsed": false
   },
   "outputs": [],
   "source": [
    "#!/usr/bin/env py27\n",
    "import warnings\n",
    "with warnings.catch_warnings():\n",
    "    warnings.simplefilter('ignore')\n",
    "from IPython.display import display, Image\n",
    "import xml.etree.ElementTree as ET\n",
    "import requests\n",
    "#import pythoncyc as pc\n",
    "#from HTMLParser import HTMLParser\n",
    "#from lxml import html\n",
    "import Bio\n",
    "from Bio.Seq import Seq\n",
    "from Bio.Alphabet import generic_dna\n",
    "import csv\n",
    "import pandas as pd\n",
    "import math\n",
    "import re\n",
    "import numpy as np\n",
    "import math\n",
    "\n",
    "# this function finds all pathways associated with the molecule of interest. needs work on front end to \n",
    "# allow user to define G.O. function associated with molecule.\n",
    "class organismBreadBoard:\n",
    "    def __init__(self, name):\n",
    "        self.name = name\n",
    "    def pathwayFromCompound(self, compound):\n",
    "        self.compound = compound\n",
    "        pathWays = {}\n",
    "    #request pathway xml from ecocyc server\n",
    "        resp = requests.get(\"http://ecocyc.org/apixml?fn=pathways-of-compound&id=ECOLI:{}\".format(self.compound))\n",
    "    #builds element tree from the response xml text file\n",
    "        root = ET.fromstring(resp.text)\n",
    "    #pulls all elements associated with Pathway tag\n",
    "        pathways = root.findall(\"./Pathway\")\n",
    "    #pulls all pathway IDs\n",
    "        for pathway in pathways:\n",
    "            pathID = pathway.attrib['frameid']\n",
    "            pathWays[pathID] = pathway.findall(\"common-name\")[0].text\n",
    "        #print (pathWays)\n",
    "    #return dictionary with pathway ID: common name as key:value pairs\n",
    "    #print pathWays\n",
    "        return pathWays\n",
    "\n",
    "# this function pulls all geneIDs associated with the pathwayID passed into it\n",
    "    def genesFromPathway(self, pathwayID):\n",
    "        resp  = requests.get(\"http://ecocyc.org/apixml?fn=genes-of-pathway&id=ECOLI:{}&detail=full\".format(pathwayID))\n",
    "        root = ET.fromstring(resp.text)\n",
    "    #print(resp.text)\n",
    "        genes = root.findall(\"./Gene\")\n",
    "        genesDict = {}\n",
    "        for gene in genes:\n",
    "            geneID = gene.attrib['frameid']\n",
    "            geneName = gene.findall(\"common-name\")[0].text\n",
    "            geneStrand= gene.findall(\"transcription-direction\")[0].text\n",
    "            #print geneStrand\n",
    "        #print \"Gene: \" + geneName + \", GeneID: \" + geneID\n",
    "        #page = requests.get(\"http://biocyc.org/gene?orgid=ECOLI&id=EG11879\")\n",
    "            genesDict[geneID] = [geneName, geneStrand]\n",
    "        return genesDict\n",
    "    \n",
    "# this function pulls the promoterIDs associated with the geneID passed into it\n",
    "    def getPromoter(self, geneID, strand):\n",
    "        promoterDict = {}\n",
    "        resp  = requests.get(\"http://ecocyc.org/apixml?fn=transcription-units-of-gene&id=ECOLI:{}&detail=full\".format(geneID))\n",
    "        root=ET.fromstring(resp.text)\n",
    "        #print resp.text\n",
    "        #transUnits=root.findall(\"./Transcription-Unit\")\n",
    "        \n",
    "        promoters=root.findall(\"./Transcription-Unit/component/Promoter\")\n",
    "        #for transUnit in transUnits:\n",
    "            #TUID=transUnit.attrib['frameid']\n",
    "            #print TUID\n",
    "            #print promoters\n",
    "        for promoter in promoters:\n",
    "            #print promoters[promoter]\n",
    "            pID = promoter.attrib['frameid']\n",
    "            print pID\n",
    "            TUID = promoter.find('transcription-unit')\n",
    "            print TUID\n",
    "                #promoterDict[pID]=[TUID]\n",
    "\n",
    "            if pID not in promoterDict:\n",
    "                try:\n",
    "                    #absPositPlusOne = promoter.find('absolute-plus-1-pos').text\n",
    "                    #promoterDict[pID]= absPositPlusOne\n",
    "                    promoterDict[pID]=[promoter.find('absolute-plus-1-pos').text, strand]\n",
    "                    #print 'promoter position for:', pID,  'is:', promoterDict[pID]\n",
    "                #print('b')\n",
    "                except AttributeError:\n",
    "                    promoterDict[pID]=['NA','NA']\n",
    "                    #print 'promoter position for',pID, 'was not found'\n",
    "            else:\n",
    "                \n",
    "                continue\n",
    "            #promoterDict[pID]= absPositPlusOne\n",
    "        print promoterDict\n",
    "        return promoterDict\n",
    "    \n",
    "    def getTUID(self, geneID):\n",
    "        resp  = requests.get(\"http://ecocyc.org/apixml?fn=transcription-units-of-gene&id=ECOLI:{}&detail=full\".format(geneID))\n",
    "        root=ET.fromstring(resp.text)\n",
    "        transUnits=root.findall(\"./Transcription-Unit\")\n",
    "        TU_list=[]\n",
    "        for transUnit in transUnits:\n",
    "            TU_list.append(transUnit.attrib['frameid'])\n",
    "        return TU_list\n",
    "    \n",
    "    def getPromoOfTU(self, TUID):\n",
    "        promoterDict={}\n",
    "        resp  = requests.get(\"http://ecocyc.org/apixml?fn=transcription-unit-promoter&id=ECOLI:{}&detail=full\".format(TUID))\n",
    "        root=ET.fromstring(resp.text)\n",
    "        #print resp.text\n",
    "        promoters=root.findall(\"./Promoter\")\n",
    "        #print promoters\n",
    "        for promoter in promoters:\n",
    "            pID = promoter.attrib['frameid']\n",
    "            trnsDir = promoter.findall('transcription-direction')[0].text\n",
    "            position = promoter.findall('absolute-plus-1-pos')[0].text\n",
    "            #print pID, trnsDir, position\n",
    "            promoterDict[pID]=[trnsDir, position]\n",
    "        return promoterDict\n",
    "    \n",
    "    def genesOfTU(self, TU_ID):\n",
    "        genesList = []\n",
    "        resp  = requests.get(\"http://ecocyc.org/apixml?fn=transcription-unit-genes&id=ECOLI:{}&detail=full\".format(TU_ID))\n",
    "        root=ET.fromstring(resp.text)\n",
    "        print(resp.text)\n",
    "        #genes = root.findall(\"./\")\n",
    "        \n",
    "    def pathwaysOfGene(self, geneID):\n",
    "        resp  = requests.get(\"http://ecocyc.org/apixml?fn=pathways-of-gene&id=ECOLI:{}&detail=full\".format(geneID))\n",
    "        root=ET.fromstring(resp.text)\n",
    "        print(resp.text)\n",
    "        \n",
    "    def findAltFunc(self, pathwayID):\n",
    "        resp  = requests.get(\"http://metacyc.org/apixml?fn=pathways-of-gene&id=META:{}&detail=full\".format(pathwayID))\n",
    "        root=ET.fromstring(resp.text)\n",
    "        print(resp.text)\n",
    "        \n",
    "    def getGeneSeq(self, geneID):\n",
    "        resp  = requests.get(\"http://ecocyc.org/apixml?fn=get-gene-sequence&id=ECOLI:{}&detail=full\".format(geneID))\n",
    "        root=ET.fromstring(resp.text)\n",
    "        print(resp.text)\n",
    "        \n",
    "    def getGenePromoter(self, geneID, strand):\n",
    "        promoterDict = {}\n",
    "        resp  = requests.get(\"http://ecocyc.org/apixml?fn=transcription-units-of-gene&id=ECOLI:{}&detail=full\".format(geneID))\n",
    "        root=ET.fromstring(resp.text)\n",
    "        #print resp.text\n",
    "        promoters=root.findall(\"./Transcription-Unit/component/Promoter\")\n",
    "        for promoter in promoters:\n",
    "            pID = promoter.attrib['frameid']\n",
    "            if pID not in promoterDict:\n",
    "                try:\n",
    "                    promoterDict[pID]=[promoter.find('absolute-plus-1-pos').text, strand]\n",
    "                except AttributeError:\n",
    "                    promoterDict[pID]=['NA','NA']\n",
    "            else:\n",
    "                continue\n",
    "        return promoterDict"
   ]
  },
  {
   "cell_type": "code",
   "execution_count": 222,
   "metadata": {
    "collapsed": true
   },
   "outputs": [],
   "source": [
    "class FastAreader :\n",
    "    '''\n",
    "    Class to provide reading of a file containing one or more FASTA\n",
    "    formatted sequences:\n",
    "    object instantiation:\n",
    "    FastAreader(<file name>):\n",
    " \n",
    "    object attributes:\n",
    "    fname: the initial file name\n",
    " \n",
    "    methods:\n",
    "    readFasta() : returns header and sequence as strings.\n",
    "    Author: David Bernick\n",
    "    Date: April 19, 2013\n",
    "    '''\n",
    "    def __init__ (self, fname):\n",
    "        '''contructor: saves attribute fname '''\n",
    "        self.fname = fname\n",
    " \n",
    "    def readFasta (self):\n",
    "        '''\n",
    "        using filename given in init, returns each included FastA record\n",
    "        as 2 strings - header and sequence.\n",
    "        whitespace is removed, no adjustment is made to sequence contents.\n",
    "        The initial '>' is removed from the header.\n",
    "        '''\n",
    "        header = ''\n",
    "        sequence = ''\n",
    "        \n",
    "        with open(self.fname) as fileH:\n",
    "            # initialize return containers\n",
    "            header = ''\n",
    "            sequence = ''\n",
    " \n",
    "            # skip to first fasta header\n",
    "            line = fileH.readline()\n",
    "            while not line.startswith('>') :\n",
    "                line = fileH.readline()\n",
    "            header = line[1:].rstrip()\n",
    " \n",
    "            # header is saved, get the rest of the sequence\n",
    "            # up until the next header is found\n",
    "            # then yield the results and wait for the next call.\n",
    "            # next call will resume at the yield point\n",
    "            # which is where we have the next header\n",
    "            for line in fileH:\n",
    "                if line.startswith ('>'):\n",
    "                    yield header,sequence\n",
    "                    header = line[1:].rstrip()\n",
    "                    sequence = ''\n",
    "                else :\n",
    "                    sequence += ''.join(line.rstrip().split()).upper()\n",
    "        # final header and sequence will be seen with an end of file\n",
    "        # with clause will terminate, so we do the final yield of the data\n",
    "        yield header,sequence"
   ]
  },
  {
   "cell_type": "code",
   "execution_count": 223,
   "metadata": {
    "collapsed": false
   },
   "outputs": [
    {
     "ename": "IOError",
     "evalue": "File All_genes_of_E._coli_K-12_substr._MG1655_10172016_2.txt does not exist",
     "output_type": "error",
     "traceback": [
      "\u001b[0;31m---------------------------------------------------------------------------\u001b[0m",
      "\u001b[0;31mIOError\u001b[0m                                   Traceback (most recent call last)",
      "\u001b[0;32m<ipython-input-223-7272b1624db2>\u001b[0m in \u001b[0;36m<module>\u001b[0;34m()\u001b[0m\n\u001b[1;32m     12\u001b[0m     \u001b[0mtargetHead\u001b[0m\u001b[0;34m+=\u001b[0m\u001b[0mhead\u001b[0m\u001b[0;34m\u001b[0m\u001b[0m\n\u001b[1;32m     13\u001b[0m     \u001b[0mtargetSeq\u001b[0m\u001b[0;34m+=\u001b[0m \u001b[0mseq\u001b[0m\u001b[0;34m\u001b[0m\u001b[0m\n\u001b[0;32m---> 14\u001b[0;31m \u001b[0mmyTable_genes\u001b[0m \u001b[0;34m=\u001b[0m \u001b[0mpd\u001b[0m\u001b[0;34m.\u001b[0m\u001b[0mread_table\u001b[0m\u001b[0;34m(\u001b[0m\u001b[0;34m'All_genes_of_E._coli_K-12_substr._MG1655_10172016_2.txt'\u001b[0m\u001b[0;34m)\u001b[0m\u001b[0;34m\u001b[0m\u001b[0m\n\u001b[0m\u001b[1;32m     15\u001b[0m \u001b[0;32mprint\u001b[0m \u001b[0mmyTable_genes\u001b[0m\u001b[0;34m\u001b[0m\u001b[0m\n\u001b[1;32m     16\u001b[0m \u001b[0;32mfor\u001b[0m \u001b[0mi\u001b[0m\u001b[0;34m,\u001b[0m \u001b[0mrow\u001b[0m \u001b[0;32min\u001b[0m \u001b[0mmyTable_genes\u001b[0m\u001b[0;34m.\u001b[0m\u001b[0miterrows\u001b[0m\u001b[0;34m(\u001b[0m\u001b[0;34m)\u001b[0m\u001b[0;34m:\u001b[0m\u001b[0;34m\u001b[0m\u001b[0m\n",
      "\u001b[0;32m/Users/Akshay/anaconda3/envs/py27/lib/python2.7/site-packages/pandas/io/parsers.pyc\u001b[0m in \u001b[0;36mparser_f\u001b[0;34m(filepath_or_buffer, sep, delimiter, header, names, index_col, usecols, squeeze, prefix, mangle_dupe_cols, dtype, engine, converters, true_values, false_values, skipinitialspace, skiprows, nrows, na_values, keep_default_na, na_filter, verbose, skip_blank_lines, parse_dates, infer_datetime_format, keep_date_col, date_parser, dayfirst, iterator, chunksize, compression, thousands, decimal, lineterminator, quotechar, quoting, escapechar, comment, encoding, dialect, tupleize_cols, error_bad_lines, warn_bad_lines, skipfooter, skip_footer, doublequote, delim_whitespace, as_recarray, compact_ints, use_unsigned, low_memory, buffer_lines, memory_map, float_precision)\u001b[0m\n\u001b[1;32m    643\u001b[0m                     skip_blank_lines=skip_blank_lines)\n\u001b[1;32m    644\u001b[0m \u001b[0;34m\u001b[0m\u001b[0m\n\u001b[0;32m--> 645\u001b[0;31m         \u001b[0;32mreturn\u001b[0m \u001b[0m_read\u001b[0m\u001b[0;34m(\u001b[0m\u001b[0mfilepath_or_buffer\u001b[0m\u001b[0;34m,\u001b[0m \u001b[0mkwds\u001b[0m\u001b[0;34m)\u001b[0m\u001b[0;34m\u001b[0m\u001b[0m\n\u001b[0m\u001b[1;32m    646\u001b[0m \u001b[0;34m\u001b[0m\u001b[0m\n\u001b[1;32m    647\u001b[0m     \u001b[0mparser_f\u001b[0m\u001b[0;34m.\u001b[0m\u001b[0m__name__\u001b[0m \u001b[0;34m=\u001b[0m \u001b[0mname\u001b[0m\u001b[0;34m\u001b[0m\u001b[0m\n",
      "\u001b[0;32m/Users/Akshay/anaconda3/envs/py27/lib/python2.7/site-packages/pandas/io/parsers.pyc\u001b[0m in \u001b[0;36m_read\u001b[0;34m(filepath_or_buffer, kwds)\u001b[0m\n\u001b[1;32m    386\u001b[0m \u001b[0;34m\u001b[0m\u001b[0m\n\u001b[1;32m    387\u001b[0m     \u001b[0;31m# Create the parser.\u001b[0m\u001b[0;34m\u001b[0m\u001b[0;34m\u001b[0m\u001b[0m\n\u001b[0;32m--> 388\u001b[0;31m     \u001b[0mparser\u001b[0m \u001b[0;34m=\u001b[0m \u001b[0mTextFileReader\u001b[0m\u001b[0;34m(\u001b[0m\u001b[0mfilepath_or_buffer\u001b[0m\u001b[0;34m,\u001b[0m \u001b[0;34m**\u001b[0m\u001b[0mkwds\u001b[0m\u001b[0;34m)\u001b[0m\u001b[0;34m\u001b[0m\u001b[0m\n\u001b[0m\u001b[1;32m    389\u001b[0m \u001b[0;34m\u001b[0m\u001b[0m\n\u001b[1;32m    390\u001b[0m     \u001b[0;32mif\u001b[0m \u001b[0;34m(\u001b[0m\u001b[0mnrows\u001b[0m \u001b[0;32mis\u001b[0m \u001b[0;32mnot\u001b[0m \u001b[0mNone\u001b[0m\u001b[0;34m)\u001b[0m \u001b[0;32mand\u001b[0m \u001b[0;34m(\u001b[0m\u001b[0mchunksize\u001b[0m \u001b[0;32mis\u001b[0m \u001b[0;32mnot\u001b[0m \u001b[0mNone\u001b[0m\u001b[0;34m)\u001b[0m\u001b[0;34m:\u001b[0m\u001b[0;34m\u001b[0m\u001b[0m\n",
      "\u001b[0;32m/Users/Akshay/anaconda3/envs/py27/lib/python2.7/site-packages/pandas/io/parsers.pyc\u001b[0m in \u001b[0;36m__init__\u001b[0;34m(self, f, engine, **kwds)\u001b[0m\n\u001b[1;32m    727\u001b[0m             \u001b[0mself\u001b[0m\u001b[0;34m.\u001b[0m\u001b[0moptions\u001b[0m\u001b[0;34m[\u001b[0m\u001b[0;34m'has_index_names'\u001b[0m\u001b[0;34m]\u001b[0m \u001b[0;34m=\u001b[0m \u001b[0mkwds\u001b[0m\u001b[0;34m[\u001b[0m\u001b[0;34m'has_index_names'\u001b[0m\u001b[0;34m]\u001b[0m\u001b[0;34m\u001b[0m\u001b[0m\n\u001b[1;32m    728\u001b[0m \u001b[0;34m\u001b[0m\u001b[0m\n\u001b[0;32m--> 729\u001b[0;31m         \u001b[0mself\u001b[0m\u001b[0;34m.\u001b[0m\u001b[0m_make_engine\u001b[0m\u001b[0;34m(\u001b[0m\u001b[0mself\u001b[0m\u001b[0;34m.\u001b[0m\u001b[0mengine\u001b[0m\u001b[0;34m)\u001b[0m\u001b[0;34m\u001b[0m\u001b[0m\n\u001b[0m\u001b[1;32m    730\u001b[0m \u001b[0;34m\u001b[0m\u001b[0m\n\u001b[1;32m    731\u001b[0m     \u001b[0;32mdef\u001b[0m \u001b[0mclose\u001b[0m\u001b[0;34m(\u001b[0m\u001b[0mself\u001b[0m\u001b[0;34m)\u001b[0m\u001b[0;34m:\u001b[0m\u001b[0;34m\u001b[0m\u001b[0m\n",
      "\u001b[0;32m/Users/Akshay/anaconda3/envs/py27/lib/python2.7/site-packages/pandas/io/parsers.pyc\u001b[0m in \u001b[0;36m_make_engine\u001b[0;34m(self, engine)\u001b[0m\n\u001b[1;32m    920\u001b[0m     \u001b[0;32mdef\u001b[0m \u001b[0m_make_engine\u001b[0m\u001b[0;34m(\u001b[0m\u001b[0mself\u001b[0m\u001b[0;34m,\u001b[0m \u001b[0mengine\u001b[0m\u001b[0;34m=\u001b[0m\u001b[0;34m'c'\u001b[0m\u001b[0;34m)\u001b[0m\u001b[0;34m:\u001b[0m\u001b[0;34m\u001b[0m\u001b[0m\n\u001b[1;32m    921\u001b[0m         \u001b[0;32mif\u001b[0m \u001b[0mengine\u001b[0m \u001b[0;34m==\u001b[0m \u001b[0;34m'c'\u001b[0m\u001b[0;34m:\u001b[0m\u001b[0;34m\u001b[0m\u001b[0m\n\u001b[0;32m--> 922\u001b[0;31m             \u001b[0mself\u001b[0m\u001b[0;34m.\u001b[0m\u001b[0m_engine\u001b[0m \u001b[0;34m=\u001b[0m \u001b[0mCParserWrapper\u001b[0m\u001b[0;34m(\u001b[0m\u001b[0mself\u001b[0m\u001b[0;34m.\u001b[0m\u001b[0mf\u001b[0m\u001b[0;34m,\u001b[0m \u001b[0;34m**\u001b[0m\u001b[0mself\u001b[0m\u001b[0;34m.\u001b[0m\u001b[0moptions\u001b[0m\u001b[0;34m)\u001b[0m\u001b[0;34m\u001b[0m\u001b[0m\n\u001b[0m\u001b[1;32m    923\u001b[0m         \u001b[0;32melse\u001b[0m\u001b[0;34m:\u001b[0m\u001b[0;34m\u001b[0m\u001b[0m\n\u001b[1;32m    924\u001b[0m             \u001b[0;32mif\u001b[0m \u001b[0mengine\u001b[0m \u001b[0;34m==\u001b[0m \u001b[0;34m'python'\u001b[0m\u001b[0;34m:\u001b[0m\u001b[0;34m\u001b[0m\u001b[0m\n",
      "\u001b[0;32m/Users/Akshay/anaconda3/envs/py27/lib/python2.7/site-packages/pandas/io/parsers.pyc\u001b[0m in \u001b[0;36m__init__\u001b[0;34m(self, src, **kwds)\u001b[0m\n\u001b[1;32m   1387\u001b[0m         \u001b[0mkwds\u001b[0m\u001b[0;34m[\u001b[0m\u001b[0;34m'allow_leading_cols'\u001b[0m\u001b[0;34m]\u001b[0m \u001b[0;34m=\u001b[0m \u001b[0mself\u001b[0m\u001b[0;34m.\u001b[0m\u001b[0mindex_col\u001b[0m \u001b[0;32mis\u001b[0m \u001b[0;32mnot\u001b[0m \u001b[0mFalse\u001b[0m\u001b[0;34m\u001b[0m\u001b[0m\n\u001b[1;32m   1388\u001b[0m \u001b[0;34m\u001b[0m\u001b[0m\n\u001b[0;32m-> 1389\u001b[0;31m         \u001b[0mself\u001b[0m\u001b[0;34m.\u001b[0m\u001b[0m_reader\u001b[0m \u001b[0;34m=\u001b[0m \u001b[0m_parser\u001b[0m\u001b[0;34m.\u001b[0m\u001b[0mTextReader\u001b[0m\u001b[0;34m(\u001b[0m\u001b[0msrc\u001b[0m\u001b[0;34m,\u001b[0m \u001b[0;34m**\u001b[0m\u001b[0mkwds\u001b[0m\u001b[0;34m)\u001b[0m\u001b[0;34m\u001b[0m\u001b[0m\n\u001b[0m\u001b[1;32m   1390\u001b[0m \u001b[0;34m\u001b[0m\u001b[0m\n\u001b[1;32m   1391\u001b[0m         \u001b[0;31m# XXX\u001b[0m\u001b[0;34m\u001b[0m\u001b[0;34m\u001b[0m\u001b[0m\n",
      "\u001b[0;32mpandas/parser.pyx\u001b[0m in \u001b[0;36mpandas.parser.TextReader.__cinit__ (pandas/parser.c:4019)\u001b[0;34m()\u001b[0m\n",
      "\u001b[0;32mpandas/parser.pyx\u001b[0m in \u001b[0;36mpandas.parser.TextReader._setup_parser_source (pandas/parser.c:7967)\u001b[0;34m()\u001b[0m\n",
      "\u001b[0;31mIOError\u001b[0m: File All_genes_of_E._coli_K-12_substr._MG1655_10172016_2.txt does not exist"
     ]
    }
   ],
   "source": [
    "#instantiate an organism BB for ecoli\n",
    "#myOrg=organismBreadBoard('ECOLI')\n",
    "#myOrg=pc.select_organism('ecoli')\n",
    "#instantiate a fasta reader with target genome\n",
    "myReader = FastAreader ('ecoli_v3_u00096_3.fa')\n",
    "myDFrame1=pd.DataFrame(columns=['Gene','Strand','Sequence','Promoter','Transcription Units','Other genes in operon','Protospacers'])\n",
    "\n",
    "#parse fastareader and pull out the header and sequence for the genome\n",
    "targetHead=''\n",
    "targetSeq=''\n",
    "for head, seq in myReader.readFasta() :\n",
    "    targetHead+=head\n",
    "    targetSeq+= seq\n",
    "myTable_genes = pd.read_table('All_genes_of_E._coli_K-12_substr._MG1655_10172016_2.txt')\n",
    "print myTable_genes\n",
    "for i, row in myTable_genes.iterrows():\n",
    "    myDFrame1.loc[i,['Gene']]=row['Gene Name']\n",
    "    myDFrame1.loc[i,['Strand']]=row['Transcription-Direction']\n",
    "    myDFrame1.loc[i,['Promoter']]=row['Transcription units - promoter of operon']\n",
    "    myDFrame1.loc[i, ['Transcription Units']]=row['Transcription Units']\n",
    "    myDFrame1.loc[i, ['Other genes in operon']]=row['Genes of transcription unit']\n",
    "    myDFrame1.loc[i, ['Sequence']]=row['Sequence - DNA sequence']\n",
    "    #if not math.isnan(row['Left-End-Position']):\n",
    "        #geneSeq+=targetSeq[int(row['Left-End-Position']): int(row['Right-End-Position'])]\n",
    "    #else:\n",
    "        #continue\n",
    "    #myDFrame1.loc[i,['Sequence']]=geneSeq\n",
    "#myDFrame1.to_csv('genes_promos_Ecoli', sep='\\t')\n"
   ]
  },
  {
   "cell_type": "code",
   "execution_count": null,
   "metadata": {
    "collapsed": false
   },
   "outputs": [],
   "source": [
    "print myDFrame1\n"
   ]
  },
  {
   "cell_type": "code",
   "execution_count": null,
   "metadata": {
    "collapsed": false
   },
   "outputs": [],
   "source": [
    "myTable_promoters = pd.read_table('All_promoters_of_E._coli_K-12_substr._MG1655_10172016.txt')\n",
    "#print myTable_promoters.head"
   ]
  },
  {
   "cell_type": "code",
   "execution_count": null,
   "metadata": {
    "collapsed": false
   },
   "outputs": [],
   "source": [
    "myTable_promoters = pd.read_table('All_promoters_of_E._coli_K-12_substr._MG1655_10172016.txt')\n",
    "myDFrame2=pd.DataFrame(columns=['Promoter','Strand','Position','Sequence','Genes in operon','Transcription Units','Pathways'])\n",
    "upstream = 60\n",
    "downstream = 60\n",
    "for i, row in myTable_promoters.iterrows():\n",
    "    myDFrame2.loc[i,['Promoter']]=row['Promoter Name']\n",
    "    myDFrame2.loc[i, ['Strand']]=row['Transcription-Direction']\n",
    "    myDFrame2.loc[i,['Position']]=row['Absolute-Plus-1-Position']\n",
    "    myDFrame2.loc[i,['Genes in operon']]=row['Promoters - genes downstream of promoter']\n",
    "    myDFrame2.loc[i, ['Transcription Units']]=row['Promoters - transcription units of promoter']\n",
    "    myDFrame2.loc[i, ['Genes in operon']]=row['Promoters - genes downstream of promoter']\n",
    "    myDFrame2.loc[i, ['Pathways']]=row['Transcription units - pathways']\n",
    "    if not math.isnan(row['Absolute-Plus-1-Position']):\n",
    "        if row['Absolute-Plus-1-Position']!='-':\n",
    "            myDFrame2.loc[i, ['Sequence']]=targetSeq[(int(row['Absolute-Plus-1-Position'])-upstream): (int(row['Absolute-Plus-1-Position']+downstream))]\n",
    "        else:\n",
    "            myDFrame2.loc[i, ['Sequence']]=targetSeq[(int(row['Absolute-Plus-1-Position'])-downstream): (int(row['Absolute-Plus-1-Position']+upstream))]\n",
    "    else:\n",
    "        #print row['Promoter Name']\n",
    "        #print row['Absolute-Plus-1-Position']\n",
    "        #myDFrame2.loc[i, ['Sequence']]=targetSeq[(int(row['Absolute-Plus-1-Position'])-55): (int(row['Absolute-Plus-1-Position']+30))]\n",
    "        continue\n",
    "print myTable_promoters.head"
   ]
  },
  {
   "cell_type": "code",
   "execution_count": null,
   "metadata": {
    "collapsed": false
   },
   "outputs": [],
   "source": [
    "print myDFrame2\n",
    "myDFrame2.to_csv('test_out.CSV')"
   ]
  },
  {
   "cell_type": "code",
   "execution_count": 224,
   "metadata": {
    "collapsed": false
   },
   "outputs": [],
   "source": [
    "#Makes protospacers from an arbitrary sequence (in our case either a gene or promoter)\n",
    "\n",
    "#Note, ignores promoter ids that don't have associated promoter; need to add those.\n",
    "#Note: Often the algorithm below cannot pull a full protospacer_length protospacer from the given \"promoter\" region; in this case\n",
    "#nothing is pulled and an empty comma shows up. Need to update this.\n",
    "\n",
    "#Currently not adding lists of protospacers directly to dataframe (myDFrame2)-- need to add this capability.\n",
    "\n",
    "protospacer_length = 30;\n",
    "PAM_length = 3;\n",
    "myDFrame2['protospacer-positive'] = \"\"\n",
    "myDFrame2['protospacer-negative'] = \"\"\n",
    "protospacers = []\n",
    "for i in range(myDFrame2.shape[0]):\n",
    "    targetSeq =  myDFrame2.loc[i, ['Sequence']][0]\n",
    "    protospacers_i = []\n",
    "    if(type(targetSeq) == str):\n",
    "        for base in range(len(targetSeq)):\n",
    "            if (targetSeq[base-2:base] == 'GG') & (base-(protospacer_length+PAM_length)>-1):\n",
    "                protospacer_positive = targetSeq[base-(protospacer_length+PAM_length):base-PAM_length];\n",
    "                myDFrame2.loc[i, ['protospacer-positive']] += protospacer_positive + \", \" \n",
    "                protospacers_i.append(protospacer_positive)\n",
    "            elif (targetSeq[base-3:base-1] == 'CC') & (base+(protospacer_length)<len(targetSeq)):\n",
    "                protospacer_negative = targetSeq[base:base+(protospacer_length)];\n",
    "                myDFrame2.loc[i, ['protospacer-negative']] += protospacer_negative + \", \"\n",
    "                protospacers_i.append(protospacer_negative)\n",
    "            else:\n",
    "                continue\n",
    "    protospacers += protospacers_i\n",
    "                \n",
    "myDFrame2.to_csv('CRISPRiTargets.CSV')"
   ]
  },
  {
   "cell_type": "code",
   "execution_count": 225,
   "metadata": {
    "collapsed": false
   },
   "outputs": [
    {
     "name": "stdout",
     "output_type": "stream",
     "text": [
      "Target Sequence: GCGCGCTTTAAAGCCTCCAGTGCGGTGTTTAAATCTTTGTGGGATCAGGGCATTATCTTACGTGATCAGAATAAACAACCCTCTTTAAGCGGCTGCCTGCGAATTACCGTCGGAACCCGT\n",
      "\n",
      "negative strand\n",
      "PAM: CCT\n",
      "Protospacer: CCAGTGCGGTGTTTAAATCTTTGTGGGATC\n",
      "\n",
      "negative strand\n",
      "PAM: CCA\n",
      "Protospacer: GTGCGGTGTTTAAATCTTTGTGGGATCAGG\n",
      "\n",
      "positive strand\n",
      "PAM: TGG\n",
      "Protospacer: AAAGCCTCCAGTGCGGTGTTTAAATCTTTG\n",
      "\n",
      "positive strand\n",
      "PAM: GGG\n",
      "Protospacer: AAGCCTCCAGTGCGGTGTTTAAATCTTTGT\n",
      "\n",
      "positive strand\n",
      "PAM: AGG\n",
      "Protospacer: CCAGTGCGGTGTTTAAATCTTTGTGGGATC\n",
      "\n",
      "positive strand\n",
      "PAM: GGG\n",
      "Protospacer: CAGTGCGGTGTTTAAATCTTTGTGGGATCA\n",
      "\n",
      "negative strand\n",
      "PAM: CCC\n",
      "Protospacer: TCTTTAAGCGGCTGCCTGCGAATTACCGTC\n",
      "\n",
      "negative strand\n",
      "PAM: CCT\n",
      "Protospacer: CTTTAAGCGGCTGCCTGCGAATTACCGTCG\n",
      "\n",
      "positive strand\n",
      "PAM: CGG\n",
      "Protospacer: ACGTGATCAGAATAAACAACCCTCTTTAAG\n",
      "\n",
      "positive strand\n",
      "PAM: CGG\n",
      "Protospacer: CTCTTTAAGCGGCTGCCTGCGAATTACCGT\n",
      "\n"
     ]
    }
   ],
   "source": [
    "#Validation for His -- CRISPathBrick paper/Our paper His protospacer target = tctttaagcggctgcctgcgaattaccgtc\n",
    "targetSeq =  myDFrame2.loc[91, ['Sequence']][0]\n",
    "print \"Target Sequence: \" + targetSeq + \"\\n\"\n",
    "if(type(targetSeq) == str):\n",
    "    for base in range(len(targetSeq)):\n",
    "        if (targetSeq[base-2:base] == 'GG') & (base-(protospacer_length+PAM_length)>-1):\n",
    "            print 'positive strand'\n",
    "            print \"PAM: \" + targetSeq[base-PAM_length:base]\n",
    "            print \"Protospacer: \" + targetSeq[base-(protospacer_length+PAM_length):base-PAM_length] + \"\\n\"\n",
    "        elif (targetSeq[base-3:base-1] == 'CC') & (base+(protospacer_length)<len(targetSeq)):\n",
    "            print 'negative strand'\n",
    "            print \"PAM: \" + targetSeq[base-PAM_length:base]\n",
    "            print \"Protospacer: \" + targetSeq[base:base+(protospacer_length)] + \"\\n\"\n",
    "        else:\n",
    "            continue"
   ]
  },
  {
   "cell_type": "code",
   "execution_count": 226,
   "metadata": {
    "collapsed": false
   },
   "outputs": [
    {
     "name": "stdout",
     "output_type": "stream",
     "text": [
      "2152\n"
     ]
    }
   ],
   "source": [
    "geneCounter = 0;\n",
    "for i in range(1,myDFrame2.shape[0]):\n",
    "    gene = myDFrame2.loc[i, ['Genes in operon']][0]\n",
    "    if(isinstance(gene,str)):\n",
    "        geneCounter += gene.count('//') \n",
    "    \n",
    "print geneCounter"
   ]
  },
  {
   "cell_type": "code",
   "execution_count": 231,
   "metadata": {
    "collapsed": false
   },
   "outputs": [
    {
     "name": "stdout",
     "output_type": "stream",
     "text": [
      "# of annotated genes: 2152\n",
      "# of promoters (operons) annotated in E. coli: 3841\n",
      "Average # of protospacers identified per promoter (searching from 60 bps upstream to 60 bps downstream of +1): 7\n"
     ]
    }
   ],
   "source": [
    "## Important numbers:\n",
    "\n",
    "numPromoters = myDFrame2.shape[0]\n",
    "print \"# of annotated genes: \" + str(geneCounter)\n",
    "print \"# of promoters (operons) annotated in E. coli: \" + str(numPromoters)\n",
    "print \"Average # of protospacers identified per promoter (searching from \" + str(upstream) + \" bps upstream to \" + str(downstream) + \" bps downstream of +1): \" + str(len(protospacers)/numPromoters)"
   ]
  },
  {
   "cell_type": "code",
   "execution_count": null,
   "metadata": {
    "collapsed": false
   },
   "outputs": [],
   "source": []
  },
  {
   "cell_type": "code",
   "execution_count": null,
   "metadata": {
    "collapsed": false
   },
   "outputs": [],
   "source": []
  },
  {
   "cell_type": "code",
   "execution_count": 48,
   "metadata": {
    "collapsed": true
   },
   "outputs": [],
   "source": []
  },
  {
   "cell_type": "code",
   "execution_count": null,
   "metadata": {
    "collapsed": false
   },
   "outputs": [],
   "source": []
  },
  {
   "cell_type": "code",
   "execution_count": null,
   "metadata": {
    "collapsed": true
   },
   "outputs": [],
   "source": []
  }
 ],
 "metadata": {
  "anaconda-cloud": {},
  "kernelspec": {
   "display_name": "Python [conda env:py27]",
   "language": "python",
   "name": "conda-env-py27-py"
  },
  "language_info": {
   "codemirror_mode": {
    "name": "ipython",
    "version": 2
   },
   "file_extension": ".py",
   "mimetype": "text/x-python",
   "name": "python",
   "nbconvert_exporter": "python",
   "pygments_lexer": "ipython2",
   "version": "2.7.12"
  }
 },
 "nbformat": 4,
 "nbformat_minor": 0
}
