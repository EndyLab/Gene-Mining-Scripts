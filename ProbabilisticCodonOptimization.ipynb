{
 "cells": [
  {
   "cell_type": "code",
   "execution_count": 1,
   "metadata": {
    "collapsed": false
   },
   "outputs": [
    {
     "name": "stderr",
     "output_type": "stream",
     "text": [
      "Using Theano backend.\n"
     ]
    }
   ],
   "source": [
    "import numpy as np\n",
    "import pandas as pd\n",
    "from Bio import SeqIO\n",
    "from Bio import Seq\n",
    "from Bio.Data import CodonTable\n",
    "import seq2seq\n",
    "from seq2seq.models import SimpleSeq2seq\n",
    "import keras\n",
    "from keras.models import Sequential"
   ]
  },
  {
   "cell_type": "code",
   "execution_count": 2,
   "metadata": {
    "collapsed": false
   },
   "outputs": [
    {
     "name": "stdout",
     "output_type": "stream",
     "text": [
      "4351\n",
      "Table 1 Standard, SGC0\n",
      "\n",
      "  |  T      |  C      |  A      |  G      |\n",
      "--+---------+---------+---------+---------+--\n",
      "T | TTT F   | TCT S   | TAT Y   | TGT C   | T\n",
      "T | TTC F   | TCC S   | TAC Y   | TGC C   | C\n",
      "T | TTA L   | TCA S   | TAA Stop| TGA Stop| A\n",
      "T | TTG L(s)| TCG S   | TAG Stop| TGG W   | G\n",
      "--+---------+---------+---------+---------+--\n",
      "C | CTT L   | CCT P   | CAT H   | CGT R   | T\n",
      "C | CTC L   | CCC P   | CAC H   | CGC R   | C\n",
      "C | CTA L   | CCA P   | CAA Q   | CGA R   | A\n",
      "C | CTG L(s)| CCG P   | CAG Q   | CGG R   | G\n",
      "--+---------+---------+---------+---------+--\n",
      "A | ATT I   | ACT T   | AAT N   | AGT S   | T\n",
      "A | ATC I   | ACC T   | AAC N   | AGC S   | C\n",
      "A | ATA I   | ACA T   | AAA K   | AGA R   | A\n",
      "A | ATG M(s)| ACG T   | AAG K   | AGG R   | G\n",
      "--+---------+---------+---------+---------+--\n",
      "G | GTT V   | GCT A   | GAT D   | GGT G   | T\n",
      "G | GTC V   | GCC A   | GAC D   | GGC G   | C\n",
      "G | GTA V   | GCA A   | GAA E   | GGA G   | A\n",
      "G | GTG V   | GCG A   | GAG E   | GGG G   | G\n",
      "--+---------+---------+---------+---------+--\n",
      "4326\n"
     ]
    }
   ],
   "source": [
    "#1. Create a list of all coding proteins in E. coli based on standard coding table\n",
    "\n",
    "#Source: MetaCYC - SmartTable: E.coli MG1655 protein coding genes -- http://metacyc.org/group?id=biocyc11-15281-3657402612\n",
    "handle = open(\"E.coli_MG1655_protein_coding_genes.fa\", \"r\")\n",
    "geneList = list(SeqIO.parse(handle, \"fasta\"))\n",
    "geneListTrunc = []\n",
    "handle.close()\n",
    "print(len(geneList))\n",
    "\n",
    "#Get standard codon table\n",
    "standard_table = CodonTable.unambiguous_dna_by_name[\"Standard\"]\n",
    "print(standard_table)\n",
    "\n",
    "#For now, just remove genes that don't have a seq length divisible by 3 or have no sequence (\"NIL\"); later need to impute/investigate.\n",
    "geneList[:] = [gene for gene in geneList if len(gene.seq)%3==0 and gene.seq!=\"NIL\"]\n",
    "\n",
    "\n",
    "#The standard codon table doesn't include GTG as a start codon, so convert them to ATG (quick-fix; better would be to figure out how to alter codon table)\n",
    "for gene in geneList:\n",
    "    if gene.seq[0:3]== 'GTG':\n",
    "        gene.seq = 'ATG' + gene.seq[3:]\n",
    "\n",
    "proteinList = [Seq.translate(gene.seq) for gene in geneList]\n",
    "print(len(proteinList))\n"
   ]
  },
  {
   "cell_type": "code",
   "execution_count": 7,
   "metadata": {
    "collapsed": false
   },
   "outputs": [],
   "source": [
    "#2. Next, train a \"translation\" memory-inclusive neural network for single amino acid -> nucleotide triplet. This will\n",
    "#theoretically lead to a stronger codon table by taking into account more features than current rule based codon-optimization\n",
    "#algorithms. This reduces to a language translation problem. Check out: https://www.tensorflow.org/versions/r0.10/tutorials/seq2seq/index.html\n",
    "\n",
    "#Using Seq2Seq (Sequence to sequence learning add-on for python deep learning library Keras)\n",
    "model = SimpleSeq2seq(input_dim=5, hidden_dim=10, output_length=8, output_dim=8)\n",
    "model.compile(loss='mse', optimizer='rmsprop')\n",
    "\n",
    "\n"
   ]
  },
  {
   "cell_type": "code",
   "execution_count": null,
   "metadata": {
    "collapsed": false
   },
   "outputs": [],
   "source": [
    "#2. This time trying w/ TensorFlow seq2seq library:\n",
    "\n"
   ]
  },
  {
   "cell_type": "code",
   "execution_count": 3,
   "metadata": {
    "collapsed": true
   },
   "outputs": [],
   "source": [
    "#print(geneList[0].seq[0:3])\n",
    "#print(geneList[0].seq)\n",
    "#geneList[0].seq = \"XXX\" + geneList[0].seq[3:-1]\n",
    "\n",
    "#for i,gene in enumerate(geneList):\n",
    " #   if len(gene.seq)%3!=0: \n",
    "        #print(gene.id,\" \", len(gene.seq))\n",
    "  #      del geneList[i]\n",
    "   #     a+=1\n",
    "    #if length(gene): print(gene.id,\"\\n\",gene.seq)\n",
    "    #Seq.translate(gene.seq)\n",
    "    #elif len(gene.seq)%3 == 2:\n",
    "     #   b+=1\n",
    "    #elif len(gene.seq)%3 == 1:\n",
    "     #   c+=1\n",
    "        "
   ]
  },
  {
   "cell_type": "code",
   "execution_count": 6,
   "metadata": {
    "collapsed": false
   },
   "outputs": [
    {
     "name": "stderr",
     "output_type": "stream",
     "text": [
      "//anaconda/envs/tensorflow/lib/python3.5/site-packages/keras/layers/core.py:1120: UserWarning: TimeDistributedDense is deprecated, please use TimeDistributed(Dense(...)) instead.\n",
      "  warnings.warn('TimeDistributedDense is deprecated, '\n"
     ]
    },
    {
     "ename": "NameError",
     "evalue": "name 'n_out' is not defined",
     "output_type": "error",
     "traceback": [
      "\u001b[0;31m---------------------------------------------------------------------------\u001b[0m",
      "\u001b[0;31mNameError\u001b[0m                                 Traceback (most recent call last)",
      "\u001b[0;32m<ipython-input-6-7a0179073b80>\u001b[0m in \u001b[0;36m<module>\u001b[0;34m()\u001b[0m\n\u001b[1;32m     16\u001b[0m \u001b[0;34m\u001b[0m\u001b[0m\n\u001b[1;32m     17\u001b[0m \u001b[0mX\u001b[0m \u001b[0;34m=\u001b[0m \u001b[0mnp\u001b[0m\u001b[0;34m.\u001b[0m\u001b[0mrandom\u001b[0m\u001b[0;34m.\u001b[0m\u001b[0mrandom\u001b[0m\u001b[0;34m(\u001b[0m\u001b[0;34m(\u001b[0m\u001b[0mn_samples\u001b[0m\u001b[0;34m,\u001b[0m \u001b[0mn_timesteps\u001b[0m\u001b[0;34m,\u001b[0m \u001b[0mn_in_out\u001b[0m\u001b[0;34m)\u001b[0m\u001b[0;34m)\u001b[0m\u001b[0;34m\u001b[0m\u001b[0m\n\u001b[0;32m---> 18\u001b[0;31m \u001b[0mY\u001b[0m \u001b[0;34m=\u001b[0m \u001b[0mnp\u001b[0m\u001b[0;34m.\u001b[0m\u001b[0mrandom\u001b[0m\u001b[0;34m.\u001b[0m\u001b[0mrandom\u001b[0m\u001b[0;34m(\u001b[0m\u001b[0;34m(\u001b[0m\u001b[0mn_samples\u001b[0m\u001b[0;34m,\u001b[0m \u001b[0mn_timesteps\u001b[0m\u001b[0;34m,\u001b[0m \u001b[0mn_out\u001b[0m\u001b[0;34m)\u001b[0m\u001b[0;34m)\u001b[0m\u001b[0;34m\u001b[0m\u001b[0m\n\u001b[0m\u001b[1;32m     19\u001b[0m \u001b[0;34m\u001b[0m\u001b[0m\n\u001b[1;32m     20\u001b[0m \u001b[0;31m# learning the hidden states from source sentences\u001b[0m\u001b[0;34m\u001b[0m\u001b[0;34m\u001b[0m\u001b[0m\n",
      "\u001b[0;31mNameError\u001b[0m: name 'n_out' is not defined"
     ]
    }
   ],
   "source": [
    "from keras.models import Sequential\n",
    "import numpy as np\n",
    "from keras.layers.recurrent import SimpleRNN, GRU, LSTM\n",
    "from keras.layers.core import TimeDistributedDense, Activation\n",
    "\n",
    "n_in_out = 1\n",
    "n_hidden = 100\n",
    "n_samples = 2297\n",
    "n_timesteps = 400\n",
    "\n",
    "model = Sequential()\n",
    "# `return_sequences` controls whether to copy the input automatically\n",
    "model.add(GRU( n_hidden, input_dim = n_in_out, return_sequences=True))\n",
    "model.add(TimeDistributedDense(n_in_out, input_dim = n_hidden))\n",
    "model.compile(loss='mse', optimizer='rmsprop')\n",
    "\n",
    "X = np.random.random((n_samples, n_timesteps, n_in))\n",
    "Y = np.random.random((n_samples, n_timesteps, n_out))\n",
    "\n",
    "# learning the hidden states from source sentences\n",
    "\n",
    "Xp = model._predict(X)\n",
    "print(Xp.shape)\n",
    "print(Y.shape)\n",
    "\n",
    "model.fit(X, Y, nb_epoch=10)"
   ]
  },
  {
   "cell_type": "code",
   "execution_count": 8,
   "metadata": {
    "collapsed": true
   },
   "outputs": [],
   "source": []
  },
  {
   "cell_type": "code",
   "execution_count": null,
   "metadata": {
    "collapsed": true
   },
   "outputs": [],
   "source": []
  }
 ],
 "metadata": {
  "anaconda-cloud": {},
  "kernelspec": {
   "display_name": "Python [conda env:tensorflow]",
   "language": "python",
   "name": "conda-env-tensorflow-py"
  },
  "language_info": {
   "codemirror_mode": {
    "name": "ipython",
    "version": 3
   },
   "file_extension": ".py",
   "mimetype": "text/x-python",
   "name": "python",
   "nbconvert_exporter": "python",
   "pygments_lexer": "ipython3",
   "version": "3.5.2"
  }
 },
 "nbformat": 4,
 "nbformat_minor": 0
}
